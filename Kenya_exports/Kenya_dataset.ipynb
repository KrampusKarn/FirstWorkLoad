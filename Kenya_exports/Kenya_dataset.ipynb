{
 "cells": [
  {
   "cell_type": "code",
   "execution_count": 1,
   "id": "0485a05a",
   "metadata": {},
   "outputs": [
    {
     "ename": "ModuleNotFoundError",
     "evalue": "No module named 'matplotlib'",
     "output_type": "error",
     "traceback": [
      "\u001b[1;31m---------------------------------------------------------------------------\u001b[0m",
      "\u001b[1;31mModuleNotFoundError\u001b[0m                       Traceback (most recent call last)",
      "Cell \u001b[1;32mIn[1], line 2\u001b[0m\n\u001b[0;32m      1\u001b[0m \u001b[38;5;28;01mimport\u001b[39;00m \u001b[38;5;21;01mpandas\u001b[39;00m \u001b[38;5;28;01mas\u001b[39;00m \u001b[38;5;21;01mpd\u001b[39;00m\n\u001b[1;32m----> 2\u001b[0m \u001b[38;5;28;01mimport\u001b[39;00m \u001b[38;5;21;01mmatplotlib\u001b[39;00m\u001b[38;5;21;01m.\u001b[39;00m\u001b[38;5;21;01mpyplot\u001b[39;00m \u001b[38;5;28;01mas\u001b[39;00m \u001b[38;5;21;01mplt\u001b[39;00m\n\u001b[0;32m      3\u001b[0m \u001b[38;5;28;01mimport\u001b[39;00m \u001b[38;5;21;01mseaborn\u001b[39;00m \u001b[38;5;28;01mas\u001b[39;00m \u001b[38;5;21;01msns\u001b[39;00m\n\u001b[0;32m      4\u001b[0m \u001b[38;5;28;01mimport\u001b[39;00m \u001b[38;5;21;01mnumpy\u001b[39;00m \u001b[38;5;28;01mas\u001b[39;00m \u001b[38;5;21;01mnp\u001b[39;00m\n",
      "\u001b[1;31mModuleNotFoundError\u001b[0m: No module named 'matplotlib'"
     ]
    }
   ],
   "source": [
    "import pandas as pd\n",
    "import matplotlib.pyplot as plt\n",
    "import seaborn as sns\n",
    "import numpy as np\n",
    "from matplotlib.ticker import FuncFormatter\n",
    "from matplotlib.ticker import MaxNLocator\n",
    "\n",
    "pd.set_option('float_format', '{:6.2f}'.format)"
   ]
  },
  {
   "cell_type": "code",
   "execution_count": null,
   "id": "03bb8257",
   "metadata": {},
   "outputs": [],
   "source": [
    "Kenya_ex = pd.read_csv(\"Kenya2012_2022exportsHS2-6.csv\")\n",
    "Kenya_im = pd.read_csv(\"Kenya2012_2022importHS2-6.csv\")\n",
    "Kenya_GDP= pd.read_csv(\"GDP.csv\")\n",
    "Kenya_ex"
   ]
  },
  {
   "cell_type": "code",
   "execution_count": null,
   "id": "78e94440-9698-4a99-927c-4998c5473551",
   "metadata": {},
   "outputs": [],
   "source": [
    "Kenya_im"
   ]
  },
  {
   "cell_type": "code",
   "execution_count": null,
   "id": "e3c38e9a-99a8-45c2-a0d7-3e81d239c0e9",
   "metadata": {},
   "outputs": [],
   "source": [
    "Kenya_GDP"
   ]
  },
  {
   "cell_type": "code",
   "execution_count": null,
   "id": "061ba500",
   "metadata": {
    "scrolled": true
   },
   "outputs": [],
   "source": [
    "Kenya_ex.info()"
   ]
  },
  {
   "cell_type": "code",
   "execution_count": null,
   "id": "372bfcb0-9dcc-4f89-a1ca-13c40b2e380d",
   "metadata": {},
   "outputs": [],
   "source": [
    "Kenya_ex.mean(numeric_only=True)"
   ]
  },
  {
   "cell_type": "code",
   "execution_count": null,
   "id": "a65e8f07-8db7-4454-92c4-08a333eb3601",
   "metadata": {},
   "outputs": [],
   "source": [
    "Kenya_ex.nunique(axis=0)"
   ]
  },
  {
   "cell_type": "code",
   "execution_count": null,
   "id": "9f2e6dc0",
   "metadata": {},
   "outputs": [],
   "source": [
    "Kenya_ex.describe()"
   ]
  },
  {
   "cell_type": "code",
   "execution_count": null,
   "id": "a9ce01bf",
   "metadata": {},
   "outputs": [],
   "source": [
    "Kenya_ex['Total_Industry_Count'] = Kenya_ex.groupby('Section ID')['Section'].transform('count')\n",
    "Kenya_ex.rename(columns={'Trade Value': 'Trade_Value', 'Section ID': 'Section_ID', 'HS2 ID': 'HS2_ID', 'HS4 ID': 'HS4_ID','HS6 ID': 'HS6_ID' })"
   ]
  },
  {
   "cell_type": "code",
   "execution_count": null,
   "id": "449ccc10",
   "metadata": {},
   "outputs": [],
   "source": [
    "Kenya_section = Kenya_ex[Kenya_ex['Section'] == \"Animal Products\"]\n",
    "Kenya_section"
   ]
  },
  {
   "cell_type": "code",
   "execution_count": null,
   "id": "0d9e5fc2",
   "metadata": {},
   "outputs": [],
   "source": [
    "Kenya_ex_2012 = Kenya_ex[Kenya_ex.Year == 2012].copy()\n",
    "Kenya_ex_2012"
   ]
  },
  {
   "cell_type": "code",
   "execution_count": null,
   "id": "958a3f87-6363-42f2-a822-c98d487b373d",
   "metadata": {},
   "outputs": [],
   "source": [
    "Kenya_ex_2012.nlargest(10, 'Trade Value')"
   ]
  },
  {
   "cell_type": "code",
   "execution_count": null,
   "id": "6a9d9ebe-c719-4675-bea6-3f44683206b1",
   "metadata": {},
   "outputs": [],
   "source": [
    "Kenya_ex_2022 = Kenya_ex[Kenya_ex.Year == 2022].copy()\n",
    "Kenya_ex_2022\n"
   ]
  },
  {
   "cell_type": "code",
   "execution_count": null,
   "id": "c7d82f98-9686-4d6a-95e7-6ed73d62a4e7",
   "metadata": {},
   "outputs": [],
   "source": [
    "Kenya_ex_2022.nlargest(10,'Trade Value') "
   ]
  },
  {
   "cell_type": "code",
   "execution_count": null,
   "id": "d37d4929-46cd-4f20-98e0-f5a4cbb0d88d",
   "metadata": {},
   "outputs": [],
   "source": [
    "def most_traded(year, section, n):\n",
    "    return Kenya_ex[(Kenya_ex.Year == year) &  (Kenya_ex.Section == section)].nlargest(n, 'Trade Value')"
   ]
  },
  {
   "cell_type": "code",
   "execution_count": null,
   "id": "47777564-9dd1-41de-9236-0383774933ab",
   "metadata": {},
   "outputs": [],
   "source": [
    "most_traded(2018, 'Animal Products', 5)"
   ]
  },
  {
   "cell_type": "code",
   "execution_count": null,
   "id": "04757870-0808-4956-8b13-f74b3fd17de1",
   "metadata": {},
   "outputs": [],
   "source": [
    "most_traded(2022,'Animal Products', 5)"
   ]
  },
  {
   "cell_type": "code",
   "execution_count": null,
   "id": "9b516b81",
   "metadata": {},
   "outputs": [],
   "source": [
    "Kenya_section = Kenya_ex[Kenya_ex.Section == 'Animal Products'].copy()\n",
    "Kenya_section"
   ]
  },
  {
   "cell_type": "code",
   "execution_count": null,
   "id": "2429534f-b06d-451c-9a6e-d580a96680eb",
   "metadata": {},
   "outputs": [],
   "source": [
    "# Group by year and section to find the total trade value per section per year\n",
    "# This will show the Year and Section as the multi-level indices\n",
    "yearly_exports = Kenya_ex.groupby(['Year', 'Section'])['Trade Value'].sum().reset_index()\n",
    "\n",
    "# Pivot the data to get a better format for plotting\n",
    "pivot_exports = yearly_exports.pivot(index='Year', columns='Section', values='Trade Value').fillna(0)"
   ]
  },
  {
   "cell_type": "code",
   "execution_count": null,
   "id": "dbb82587-f866-4e53-b39f-6ad0ba4404ef",
   "metadata": {},
   "outputs": [],
   "source": [
    "pivot_exports"
   ]
  },
  {
   "cell_type": "code",
   "execution_count": null,
   "id": "0e5479c8-5712-4e0d-9503-978704187a46",
   "metadata": {},
   "outputs": [],
   "source": [
    "# Create a correlation matrix using pandas\n",
    "\n",
    "# Exclude non-numeric columns\n",
    "corr_matrix = pivot_exports.select_dtypes(include=[ 'float64', 'int64'])\n",
    "\n",
    "# Now compute the correlation matrix\n",
    "corr_matrix= pivot_exports.corr()\n",
    "corr_matrix"
   ]
  },
  {
   "cell_type": "code",
   "execution_count": null,
   "id": "84c1f84a-baf1-4ef4-b5fa-753eb63369ff",
   "metadata": {},
   "outputs": [],
   "source": [
    "\n",
    "f = plt.figure(figsize=(10, 10)) # figure size \n",
    "plt.matshow(pivot_exports.corr(), fignum=f.number) # type of plot\n",
    "plt.xticks(range(pivot_exports.shape[1]), pivot_exports.columns, fontsize=15, rotation=90) # x axis labels\n",
    "plt.yticks(range(pivot_exports.shape[1]), pivot_exports.columns, fontsize=15) # y axis labels\n",
    "cb = plt.colorbar() # add a colour legend (called colorbar)\n",
    "cb.ax.tick_params(labelsize=14) # add font size\n",
    "plt.title('Correlation Matrix', fontsize=14) # add title\n",
    "plt.show() "
   ]
  },
  {
   "cell_type": "code",
   "execution_count": null,
   "id": "6f0c8eaa-b8fd-40ec-a490-c05aaab90cde",
   "metadata": {},
   "outputs": [],
   "source": [
    "corr_matrix = pivot_exports.corr()\n",
    "f, ax = plt.subplots(figsize=(16, 12))\n",
    "# Create the heatmap without annotations\n",
    "sns.heatmap(corr_matrix, annot=False, ax=ax, cmap='coolwarm', linewidths=0.5)\n",
    "\n",
    "# Define a threshold to distinguish dark and light cells\n",
    "threshold = corr_matrix.max().max() / 2  # This is an example threshold\n",
    "\n",
    "# Manually annotate each cell with the correlation coefficient\n",
    "for i in range(len(corr_matrix.columns)):\n",
    "    for j in range(len(corr_matrix.columns)):\n",
    "        value = corr_matrix.iloc[i, j]\n",
    "        text_color = \"black\" if value < threshold else \"white\"\n",
    "        ax.text(j + 0.5, i + 0.5, f\"{value:.2f}\",\n",
    "                horizontalalignment='center',\n",
    "                verticalalignment='center',\n",
    "                color=text_color)\n",
    "\n",
    "\n",
    "\n",
    "# Now we set the title\n",
    "plt.title('Correlation Matrix', fontsize=14)\n",
    "\n",
    "# and finally show the plot\n",
    "plt.show()"
   ]
  },
  {
   "cell_type": "code",
   "execution_count": null,
   "id": "e118576d-b924-486d-9fb6-dc272a31ee0e",
   "metadata": {},
   "outputs": [],
   "source": [
    "most_exported = pivot_exports.idxmax(axis=1)\n",
    "least_exported = pivot_exports.idxmin(axis=1)\n",
    "\n",
    "fig, ax = plt.subplots(2, 1, figsize=(14, 12))\n",
    "\n",
    "# Most exported sections over the years\n",
    "sns.lineplot(data=pivot_exports[most_exported.unique()], ax=ax[0])\n",
    "ax[0].set_title('Most Exported Sections by Year')\n",
    "ax[0].set_ylabel('Trade Value')\n",
    "ax[0].set_xlabel('Year')\n",
    "ax[0].legend(title='Section')\n",
    "\n",
    "# Least exported sections over the years\n",
    "sns.lineplot(data=pivot_exports[least_exported.unique()], ax=ax[1])\n",
    "ax[1].set_title('Least Exported Sections by Year')\n",
    "ax[1].set_ylabel('Trade Value')\n",
    "ax[1].set_xlabel('Year')\n",
    "ax[1].legend(title='Section')\n",
    "\n",
    "plt.tight_layout()\n",
    "plt.show()\n",
    "\n",
    "most_exported, least_exported"
   ]
  },
  {
   "cell_type": "code",
   "execution_count": null,
   "id": "c5790ebc-68f7-4f58-9d79-6f1011f6a498",
   "metadata": {},
   "outputs": [],
   "source": [
    "industry_counts = df.groupby('Section')['Section'].count()\n",
    "\n",
    "# Define the data\n",
    "data = {\n",
    "    'Animal Hides': 33,\n",
    "    'Animal Products': 55,\n",
    "    'Animal and Vegetable Bi-Products': 11,\n",
    "    'Arts and Antiques': 11,\n",
    "    'Chemical Products': 121,\n",
    "    'Foodstuffs': 99,\n",
    "    'Footwear and Headwear': 44,\n",
    "    'Instruments': 33,\n",
    "    'Machines': 22,\n",
    "    'Metals': 121,\n",
    "    'Mineral Products': 33,\n",
    "    'Miscellaneous': 33,\n",
    "    'Paper Goods': 33,\n",
    "    'Plastics and Rubbers': 22,\n",
    "    'Precious Metals': 11,\n",
    "    'Stone And Glass': 33,\n",
    "    'Textiles': 154,\n",
    "    'Transportation': 44,\n",
    "    'Vegetable Products': 99,\n",
    "    'Weapons': 11,\n",
    "    'Wood Products': 33\n",
    "}\n",
    "\n",
    "# Create lists for section names and values\n",
    "sections = list(data.keys())\n",
    "values = list(data.values())\n",
    "\n",
    "# Plotting\n",
    "plt.figure(figsize=(10, 6))\n",
    "plt.barh(sections, values, color='skyblue')\n",
    "plt.xlabel('Number of Items')\n",
    "plt.ylabel('Section')\n",
    "plt.title('Number of Items per Section')\n",
    "plt.gca().invert_yaxis()  # Invert y-axis to display sections from top to bottom\n",
    "plt.tight_layout()\n",
    "\n",
    "# Show the plot\n",
    "plt.show()\n",
    "industry_counts"
   ]
  },
  {
   "cell_type": "code",
   "execution_count": null,
   "id": "7ae0d0a7-6b58-4952-af7c-9498663dd407",
   "metadata": {},
   "outputs": [],
   "source": [
    "total_products = industry_counts.sum()\n",
    "print(\"Total Products across all Industries:\", total_products)"
   ]
  },
  {
   "cell_type": "markdown",
   "id": "ebf1352e-598c-4ad9-99d3-22a706200855",
   "metadata": {},
   "source": [
    "#This is the Industry Trade value"
   ]
  },
  {
   "cell_type": "code",
   "execution_count": null,
   "id": "454c9201",
   "metadata": {},
   "outputs": [],
   "source": [
    "industry_trade_value = df.groupby('Section')['Trade Value'].sum()\n",
    "highest_trade_value_industry = industry_trade_value.idxmax()\n",
    "highest_trade_value = industry_trade_value.max()\n",
    "lowest_trade_value_industry = industry_trade_value.idxmin()\n",
    "lowest_trade_value = industry_trade_value.min()\n",
    "\n",
    "#Highest and lowest value of trade value within an Industry\n",
    "\n",
    "\n",
    "print(f\"The industry with the lowest trade value is '{lowest_trade_value_industry}' with a total trade value of {lowest_trade_value}.\")\n",
    "print(f\"The industry with the highest trade value is '{highest_trade_value_industry}' with a total trade value of {highest_trade_value}.\")"
   ]
  },
  {
   "cell_type": "code",
   "execution_count": null,
   "id": "b9b6e858-216e-43b3-bcce-72a283822da9",
   "metadata": {},
   "outputs": [],
   "source": [
    "df.describe(include=\"all\")"
   ]
  },
  {
   "cell_type": "code",
   "execution_count": null,
   "id": "c5371316-5949-41e1-a081-0addd907c3b5",
   "metadata": {},
   "outputs": [],
   "source": [
    "raw = pd.read_csv(\"Kenya_goods_export_2012-2022_HS2.csv\")\n",
    "# Strip whitespace from column names\n",
    "raw.columns = [x.strip() for x in raw.columns]\n",
    "\n",
    "# Print shape and data types\n",
    "print(raw.shape)\n",
    "print(raw.dtypes)"
   ]
  },
  {
   "cell_type": "code",
   "execution_count": null,
   "id": "4bdbb367-706f-4359-a33e-ba0d3be73f4b",
   "metadata": {},
   "outputs": [],
   "source": [
    "print(raw.describe().T[['min', 'mean', 'max', 'std']])"
   ]
  },
  {
   "cell_type": "code",
   "execution_count": null,
   "id": "195d1e0e-804a-4580-b2a7-f0bca70c4430",
   "metadata": {},
   "outputs": [],
   "source": [
    "df = Kenya \n",
    "\n",
    "# Assuming df contains the trade data for Kenya\n",
    "\n",
    "# Group the data by 'Year' and calculate the sum, mean, minimum, and maximum of the trade values for each year\n",
    "yearly_trade_sum = df.groupby('Year')['Trade Value'].sum()\n",
    "mean_trade_value_kenya = df.groupby('Year')['Trade Value'].mean()\n",
    "min_trade_value_kenya = df.groupby('Year')['Trade Value'].min()\n",
    "max_trade_value_kenya = df.groupby('Year')['Trade Value'].max()\n",
    "\n",
    "# Create a DataFrame to hold the trade summary information\n",
    "trade_summary = pd.DataFrame({\n",
    "    'Yearly Trade Sum': yearly_trade_sum,\n",
    "    'Mean Trade Value': mean_trade_value_kenya,\n",
    "    'Min Trade Value': min_trade_value_kenya,\n",
    "    'Max Trade Value': max_trade_value_kenya\n",
    "})\n",
    "\n",
    "# Print the trade summary DataFrame\n",
    "(trade_summary)\n",
    "\n",
    "# Print the mean trade value for Kenya over the entire period\n",
    "\n"
   ]
  },
  {
   "cell_type": "code",
   "execution_count": null,
   "id": "78470043-6a12-4453-be7b-76c860a62ab3",
   "metadata": {},
   "outputs": [],
   "source": [
    "def billions_formatter(x, pos):\n",
    "    return f'{x / 1e9:.0f}B'  # Convert value to billions and format\n",
    "\n",
    "# Create a new formatter using the billions_formatter function\n",
    "formatter = FuncFormatter(billions_formatter)\n",
    "\n",
    "# Plotting code\n",
    "plt.figure(figsize=(10, 6))\n",
    "yearly_trade_sum.plot(kind='bar', color='skyblue')\n",
    "plt.title('Total Trade Value by Year')\n",
    "plt.xlabel('Year')\n",
    "plt.ylabel('Total Trade Value (Billions)')\n",
    "plt.xticks(rotation=45)  # Rotate x-axis labels for better readability\n",
    "plt.grid(axis='y')  # Add grid lines only on the y-axis\n",
    "\n",
    "# Apply the formatter to the y-axis\n",
    "plt.gca().yaxis.set_major_formatter(formatter)\n",
    "\n",
    "plt.tight_layout()\n",
    "plt.show()"
   ]
  },
  {
   "cell_type": "code",
   "execution_count": null,
   "id": "aa9998a7-7b83-4111-a3b2-f7d8564996de",
   "metadata": {},
   "outputs": [],
   "source": [
    "unique_products_count = df.groupby('Year')['Section'].nunique()\n",
    "\n",
    "\n",
    "# Industry Count Analysis\n",
    "# Calculate count of unique industries within each section\n",
    "industry_counts = df.groupby('Section')['HS2'].nunique()\n",
    "\n",
    "# Calculate summary statistics for industry counts\n",
    "industry_counts_summary = industry_counts.describe()\n",
    "\n",
    "# Visualize distribution of industry counts across sections\n",
    "# Example: Bar plot for industry counts\n",
    "plt.figure(figsize=(10, 6))\n",
    "industry_counts.plot(kind='bar', color='skyblue')\n",
    "plt.title('Industry Count Distribution Across Sections')\n",
    "plt.xlabel('Section')\n",
    "plt.ylabel('Industry Count')\n",
    "plt.xticks(rotation=45,fontsize=6)\n",
    "plt.grid(axis='y')\n",
    "plt.tight_layout()\n",
    "plt.show()\n",
    "\n",
    "# Print summary statistics for industry counts\n",
    "print(\"Summary Statistics for Industry Counts:\")\n",
    "print(industry_counts_summary)"
   ]
  },
  {
   "cell_type": "markdown",
   "id": "0066acbc",
   "metadata": {},
   "source": [
    "### 21 Industry in total\n",
    "### Each unique industry (section) has at least 4.57 HS2(products)\n",
    "### For how much the counts of unique industries or HS2 products vary from the mean value across different sections.\n",
    "    - low std = low variation between HS2 (products) and Sections (unique industries)\n",
    "    - High std = vice versa\n",
    "\n",
    "# Assuming you have defined the trade summary DataFrame containing yearly trade sum, mean trade value, min trade value, and max trade value\n",
    "# Also assuming df contains the trade data for Kenya\n",
    "\n",
    "# Define the trade summary DataFrame (as per your provided code)\n",
    "trade_summary = pd.DataFrame({\n",
    "    'Mean Trade Value': mean_trade_value_kenya,})\n",
    "\n",
    "# Plotting separate line graphs for Mean, Min, and Max trade values\n",
    "fig, ax = plt.subplots(figsize=(10, 6))\n",
    "\n",
    "# Plot Mean Trade Value\n",
    "ax.plot(trade_summary.index, trade_summary['Mean Trade Value'], label='Mean Trade Value', marker='o', color='orange')\n",
    "\n",
    "\n",
    "# Set labels and title\n",
    "ax.set_xlabel('Year')\n",
    "ax.set_ylabel('Trade Value')\n",
    "ax.set_title('MeanTrade Values for Kenya (2012-2022)')\n",
    "\n",
    "# Add legend\n",
    "ax.legend()\n",
    "\n",
    "# Rotate x-axis labels for better readability\n",
    "plt.xticks(rotation=45)\n",
    "\n",
    "plt.grid(True)\n",
    "plt.tight_layout()\n",
    "plt.show()"
   ]
  },
  {
   "cell_type": "code",
   "execution_count": null,
   "id": "d19cddcf-ff59-4fdc-ae4c-d2cd753dcca0",
   "metadata": {},
   "outputs": [],
   "source": [
    "\n",
    "trade_summary = pd.DataFrame({\n",
    "    'Min Trade Value': min_trade_value_kenya,})\n",
    "\n",
    "# Plotting separate line graphs for Mean, Min, and Max trade values\n",
    "fig, ax = plt.subplots(figsize=(10, 6))\n",
    "\n",
    "# Plot Mean Trade Value\n",
    "ax.plot(trade_summary.index, trade_summary['Min Trade Value'], label='Min Trade Value', marker='o', color='red')\n",
    "\n",
    "\n",
    "# Set labels and title\n",
    "ax.set_xlabel('Year')\n",
    "ax.set_ylabel('Trade Value')\n",
    "ax.set_title('Min Trade Values for Kenya (2012-2022)')\n",
    "\n",
    "# Add legend\n",
    "ax.legend()\n",
    "\n",
    "# Rotate x-axis labels for better readability\n",
    "plt.xticks(rotation=45)\n",
    "\n",
    "plt.grid(True)\n",
    "plt.tight_layout()\n",
    "plt.show()"
   ]
  },
  {
   "cell_type": "markdown",
   "id": "f734a2de-d7c7-47d0-9bff-b76647d6c450",
   "metadata": {},
   "source": [
    "Distribution of Trade by Section: Analyze the distribution of trade value across different sections to identify which sectors contribute the most to overall trade. You can calculate summary statistics (e.g., mean, median, standard deviation) of trade values for each section and visualize the distribution using histograms or box plots.\n",
    "\n",
    "Trend Analysis: Examine the trend in trade value over time (Year) to identify any patterns or changes in trade dynamics. Plotting the trade value against time (Year) and fitting a trend line can help visualize the overall trend and identify any significant fluctuations or trends.\n",
    "\n",
    "Comparative Analysis: Compare trade values across different HS2 categories to identify which product categories contribute the most to overall traCan calculate summary statistics for trade values within each HS2 category and compare them to assess their relative importance.\n",
    "\n",
    "Seasonal Analysis: If the data spans multiple years, you can perform seasonal analysis to identify any seasonal patterns or fluctuations in trade values. This can help identify peak trading seasons or periods of low activity, which may influence business decisions and strategies.\n",
    "\n",
    "Correlation Analysis: Explore the relationship between trade value and other variables such as Section ID or Industry_Count. You can calculate correlation coefficients to quantify the strength and direction of the relationship and identify any variables that may be correlated with trade value.\n",
    "\n",
    "Outlier Detection: Identify outliers in trade values that may indicate unusual or exceptional trading activity. You can use statistical methods such as z-scores or interquartile range (IQR) to detect outliers and investigate any potential reasons for their occurrence.\n",
    "\n",
    "Trade Dynamics by Year: Analyze how trade dynamics have evolved over the years by comparing trade values and industry counts across different years. This can help identify trends or shifts in trade patterns over time and inform future business strategies.\n",
    "\n",
    "By performing these analyses, you can gain a deeper understanding of the trade data and extract valuable insights to inform business decisions and strategies. Feel free to choose the analyses that are most relevant to your objectives and explore additional insights based on your specific requirements."
   ]
  },
  {
   "cell_type": "code",
   "execution_count": null,
   "id": "3a55031e-96a4-4f36-b562-cf53badcbea5",
   "metadata": {},
   "outputs": [],
   "source": [
    "\n",
    "trade_summary = pd.DataFrame({\n",
    "    'Max Trade Value': max_trade_value_kenya,})\n",
    "\n",
    "# Plotting separate line graphs for Mean, Min, and Max trade values\n",
    "fig, ax = plt.subplots(figsize=(10, 6))\n",
    "\n",
    "# Plot Mean Trade Value\n",
    "ax.plot(trade_summary.index, trade_summary['Max Trade Value'], label='Max Trade Value', marker='o', color='purple')\n",
    "\n",
    "\n",
    "# Set labels and title\n",
    "ax.set_xlabel('Year')\n",
    "ax.set_ylabel('Trade Value')\n",
    "ax.set_title('Max Trade Values for Kenya (2012-2022)')\n",
    "\n",
    "# Add legend\n",
    "ax.legend()\n",
    "\n",
    "# Rotate x-axis labels for better readability\n",
    "plt.xticks(rotation=45)\n",
    "\n",
    "plt.grid(True)\n",
    "plt.tight_layout()\n",
    "plt.show()"
   ]
  },
  {
   "cell_type": "code",
   "execution_count": null,
   "id": "524b8932-7ba9-4fba-bc05-bfd21b320ff9",
   "metadata": {},
   "outputs": [],
   "source": [
    "correlation_df = correlation_df.drop(columns=['index'])"
   ]
  },
  {
   "cell_type": "code",
   "execution_count": null,
   "id": "678d7d8e-06a3-4a6d-8284-be175a282463",
   "metadata": {},
   "outputs": [],
   "source": []
  },
  {
   "cell_type": "code",
   "execution_count": null,
   "id": "3948a997-f528-456e-abab-fdb764ae29ba",
   "metadata": {},
   "outputs": [],
   "source": [
    "correlation_by_section_id = df.groupby('Section ID', as_index=False).apply(lambda x: x['Trade Value'].corr(x['Year']), include_groups=False)\n",
    "\n",
    "correlation_by_section_id"
   ]
  },
  {
   "cell_type": "markdown",
   "id": "591af00e-62e0-4c3a-8429-61488a60f5e7",
   "metadata": {},
   "source": [
    "# If the correlation coefficient is close to 1, it indicates a strong positive linear relationship. This means that as one variable (e.g., 'Trade Value') increases, the other variable ('Year') also tends to increase. A correlation coefficient of 1 would indicate a perfect positive correlation.\n",
    "\n",
    "## If the correlation coefficient is close to -1, it indicates a strong negative linear relationship. This means that as one variable increases, the other variable tends to decrease. A correlation coefficient of -1 would indicate a perfect negative correlation.\n",
    "\n",
    "## If the correlation coefficient is close to 0, it indicates little to no linear relationship between the variables. This means that changes in one variable are not associated with systematic changes in the other variable.\n",
    "\n",
    "Interpreting the specific correlation coefficients provided:\n",
    "\n",
    "## Values close to 0.88, 0.37, and 0.26 suggest relatively strong positive correlations. This indicates that for these 'Section IDs', there is a strong tendency for the 'Trade Value' to increase as the 'Year' increases.\n",
    "\n",
    "## Values close to -0.47, -0.32, and -0.27 suggest relatively strong negative correlations. This indicates that for these 'Section IDs', there is a strong tendency for the 'Trade Value' to decrease as the 'Year' increases.\n",
    "\n",
    "## Values close to 0 or around 0.05, 0.06, etc., suggest weak correlations. This means that there is little to no linear relationship between the 'Trade Value' and 'Year' for these 'Section IDs'."
   ]
  },
  {
   "cell_type": "code",
   "execution_count": null,
   "id": "7760501f-9ff2-43e7-abba-b3c066b8edab",
   "metadata": {
    "scrolled": true
   },
   "outputs": [],
   "source": [
    "# Mapping section IDs to industry names\n",
    "section_id_to_industry = {\n",
    "    1: 'Animal Hides',\n",
    "    2: 'Animal Products',\n",
    "    3: 'Animal and Vegetable Bi-Products',\n",
    "    4: 'Arts and Antiques',\n",
    "    5: 'Chemical Products',\n",
    "    6: 'Foodstuffs',\n",
    "    7: 'Footwear and Headwear',\n",
    "    8: 'Instruments',\n",
    "    9: 'Machines',\n",
    "    10: 'Metals',\n",
    "    11: 'Mineral Products',\n",
    "    12: 'Miscellaneous',\n",
    "    13: 'Paper Goods',\n",
    "    14: 'Plastics and Rubbers',\n",
    "    15: 'Precious Metals',\n",
    "    16: 'Stone And Glass',\n",
    "    17: 'Textiles',\n",
    "    18: 'Transportation',\n",
    "    19: 'Vegetable Products',\n",
    "    20: 'Weapons',\n",
    "    21: 'Wood Products'\n",
    "}\n",
    "\n",
    "# Map the industry names to the DataFrame\n",
    "correlation_df['Industry'] = correlation_df['Section ID'].map(section_id_to_industry)\n",
    "\n",
    "# Print the updated correlation DataFrame\n",
    "correlation_df"
   ]
  },
  {
   "cell_type": "code",
   "execution_count": null,
   "id": "c5146913-232d-4273-8cac-fcadd740cfcb",
   "metadata": {},
   "outputs": [],
   "source": [
    "# Prepare the data for heatmap\n",
    "heatmap_data = correlation_df.set_index('Industry')['Correlation Coefficient'].to_frame().T\n",
    "\n",
    "# Plot the heatmap\n",
    "plt.figure(figsize=(10, 8))\n",
    "sns.heatmap(heatmap_data, annot=True, cmap='coolwarm', center=0, linewidths=.5)\n",
    "sns.heatmap(heatmap_data, annot=False, ax=ax)\n",
    "plt.title('Correlation Coefficients between Trade Value and Year by Industry')\n",
    "plt.xlabel('Industry')\n",
    "plt.ylabel('Correlation Coefficient')\n",
    "plt.xticks(rotation=45, ha='right')\n",
    "plt.tight_layout()\n",
    "plt.show()"
   ]
  },
  {
   "cell_type": "code",
   "execution_count": null,
   "id": "1f2b877f-912c-450c-b1ae-e28e1a029040",
   "metadata": {},
   "outputs": [],
   "source": [
    "pd.read_csv(\"Kenya_export_destinations.csv\")"
   ]
  },
  {
   "cell_type": "code",
   "execution_count": null,
   "id": "5da32b8d-cf45-420f-b1f5-1f0193241d76",
   "metadata": {},
   "outputs": [],
   "source": [
    "Export_to_country = pd.read_csv(\"Kenya_export_destinations.csv\")"
   ]
  },
  {
   "cell_type": "code",
   "execution_count": null,
   "id": "505ede79-4a51-4b10-90de-d7db5094765f",
   "metadata": {
    "scrolled": true
   },
   "outputs": [],
   "source": [
    "Export_to_country.info()"
   ]
  },
  {
   "cell_type": "code",
   "execution_count": null,
   "id": "bcdc41e2-9874-4076-8815-ea3424d042a1",
   "metadata": {},
   "outputs": [],
   "source": [
    "Export_to_country.mean"
   ]
  },
  {
   "cell_type": "code",
   "execution_count": null,
   "id": "5dda717e",
   "metadata": {},
   "outputs": [],
   "source": []
  },
  {
   "cell_type": "code",
   "execution_count": null,
   "id": "19c77813-7ea0-4703-bbd3-7b7c7ca04698",
   "metadata": {},
   "outputs": [],
   "source": [
    "df = pd.read_csv(\"Kenya_export_destinations.csv\")\n",
    "\n",
    "unique_continents = df['Continent'].unique() #dataframe of Unique_continents\n",
    "num_continents = len(unique_continents) #len() gives the amount of the unique continent\n",
    "\n",
    "print(\"Number of continents:\", num_continents)\n",
    "print(\"Continents:\", unique_continents)"
   ]
  },
  {
   "cell_type": "code",
   "execution_count": null,
   "id": "81921801-b12a-48ed-a42b-b676b0ebe73f",
   "metadata": {},
   "outputs": [],
   "source": [
    "\n",
    "trade_value_by_continent = df.groupby(\"Continent\")[\"Trade Value\"].sum()\n",
    "print(\"Trade Value by Continent:\\n\", trade_value_by_continent)"
   ]
  },
  {
   "cell_type": "code",
   "execution_count": null,
   "id": "b28f150d-0de0-4fbf-a462-ad0d16be531b",
   "metadata": {},
   "outputs": [],
   "source": [
    "trade_by_continent_country = df.groupby([\"Continent\",\"Country\"])[\"Trade Value\"].agg([min, max])\n",
    "print(\"Trade Value by Continent and Country\\n:\", trade_by_continent_country)"
   ]
  },
  {
   "cell_type": "code",
   "execution_count": null,
   "id": "12f23212-068e-415c-87e3-01bbbf0b7f97",
   "metadata": {},
   "outputs": [],
   "source": [
    "# Find the row with maximum trade value for each continent\n",
    "max_trade_by_continent = df.loc[df.groupby(\"Continent\")[\"Trade Value\"].idxmax()]\n",
    "\n",
    "# Find the row with minimum trade value for each continent\n",
    "min_trade_by_continent = df.loc[df.groupby(\"Continent\")[\"Trade Value\"].idxmin()]\n",
    "\n",
    "# Print the results\n",
    "print(\"Country with the Most Trade Value by Continent:\", max_trade_by_continent)\n",
    "print(\"Country with the Least Trade Value by Continent:\", min_trade_by_continent)\n"
   ]
  },
  {
   "cell_type": "code",
   "execution_count": null,
   "id": "ae61a843-a5ac-45c9-a90e-a020a8eb189a",
   "metadata": {},
   "outputs": [],
   "source": [
    "# Group the DataFrame by \"Continent\" and calculate the sum of trade values for each continent\n",
    "trade_value_by_continent = df.groupby(\"Continent\")[\"Trade Value\"].sum()\n",
    "\n",
    "# Plot the trade value distribution across continents\n",
    "plt.figure(figsize=(10, 6))\n",
    "trade_value_by_continent.plot(kind='line', color='skyblue')\n",
    "plt.title('Trade Value Distribution Across Continents')\n",
    "plt.xlabel('Continent')\n",
    "plt.ylabel('Total Trade Value')\n",
    "plt.xticks(rotation=45)\n",
    "plt.grid(axis='y', linestyle='--', alpha=0.7)\n",
    "plt.tight_layout()\n",
    "plt.show()"
   ]
  },
  {
   "cell_type": "code",
   "execution_count": null,
   "id": "898d59ca",
   "metadata": {},
   "outputs": [],
   "source": [
    "# Find the row with maximum trade value for each continent\n",
    "max_trade_by_continent = df.loc[df.groupby(\"Continent\")[\"Trade Value\"].idxmax()]\n",
    "\n",
    "# Find the row with minimum trade value for each continent\n",
    "min_trade_by_continent = df.loc[df.groupby(\"Continent\")[\"Trade Value\"].idxmin()]\n",
    "\n",
    "# Extract country with the most and least trade value, along with the year\n",
    "summary_max_trade = max_trade_by_continent[['Continent', 'Country', 'Trade Value', 'Year']]\n",
    "summary_min_trade = min_trade_by_continent[['Continent', 'Country', 'Trade Value', 'Year']]\n",
    "\n",
    "# Print the summary\n",
    "print(\"Summary of Country with the Most Trade Value by Continent:\")\n",
    "print(summary_max_trade)\n",
    "\n",
    "print(\"\\nSummary of Country with the Least Trade Value by Continent:\")\n",
    "print(summary_min_trade)\n"
   ]
  },
  {
   "cell_type": "code",
   "execution_count": null,
   "id": "e3fc42e0",
   "metadata": {},
   "outputs": [],
   "source": [
    "pd.read_csv(\"Kenya_goods_import_2012-2022_HS2.csv\")"
   ]
  },
  {
   "cell_type": "code",
   "execution_count": null,
   "id": "258e520d",
   "metadata": {},
   "outputs": [],
   "source": [
    "Import_to_country=pd.read_csv(\"Kenya_goods_import_2012-2022_HS2.csv\")\n",
    "df = pd.read_csv(\"Kenya_goods_import_2012-2022_HS2.csv\")\n",
    "\n",
    "\n",
    "# Assuming df contains the trade data for Kenya\n",
    "\n",
    "# Group the data by 'Year' and calculate the sum, mean, minimum, and maximum of the trade values for each year\n",
    "yearly_trade_sum = df.groupby('Year')['Trade Value'].sum()\n",
    "mean_trade_value_kenya = df.groupby('Year')['Trade Value'].mean()\n",
    "min_trade_value_kenya = df.groupby('Year')['Trade Value'].min()\n",
    "max_trade_value_kenya = df.groupby('Year')['Trade Value'].max()\n",
    "\n",
    "# Create a DataFrame to hold the trade summary information\n",
    "trade_summary = pd.DataFrame({\n",
    "    'Yearly Trade Sum': yearly_trade_sum,\n",
    "    'Mean Trade Value': mean_trade_value_kenya,\n",
    "    'Min Trade Value': min_trade_value_kenya,\n",
    "    'Max Trade Value': max_trade_value_kenya\n",
    "})\n",
    "\n",
    "# Print the trade summary DataFrame\n",
    "print(trade_summary)\n",
    "\n",
    "# Print the mean trade value for Kenya over the entire period\n",
    "print(\"Mean Trade Value for Kenya (2012-2022):\", mean_trade_value_kenya.mean())\n"
   ]
  },
  {
   "cell_type": "code",
   "execution_count": null,
   "id": "8ce29ca2",
   "metadata": {},
   "outputs": [],
   "source": [
    "def billions_formatter(x, pos):\n",
    "    return f'{x / 1e9:.0f}B'  # Convert value to billions and format\n",
    "\n",
    "# Create a new formatter using the billions_formatter function\n",
    "formatter = FuncFormatter(billions_formatter)\n",
    "\n",
    "# Plotting code\n",
    "plt.figure(figsize=(10, 6))\n",
    "yearly_trade_sum.plot(kind='bar', color='skyblue')\n",
    "plt.title('Total Trade Value by Year')\n",
    "plt.xlabel('Year')\n",
    "plt.ylabel('Total Trade Value (Billions)')\n",
    "plt.xticks(rotation=45)  # Rotate x-axis labels for better readability\n",
    "plt.grid(axis='y')  # Add grid lines only on the y-axis\n",
    "\n",
    "# Apply the formatter to the y-axis\n",
    "plt.gca().yaxis.set_major_formatter(formatter)\n",
    "\n",
    "plt.tight_layout()\n",
    "plt.show()"
   ]
  },
  {
   "cell_type": "code",
   "execution_count": null,
   "id": "61e639c7",
   "metadata": {},
   "outputs": [],
   "source": [
    "df_import = pd.read_csv(\"Kenya_goods_import_2012-2022_HS2.csv\")\n",
    "\n",
    "\n",
    "correlation_by_section_id = df.groupby('Section ID').apply(lambda x: x['Trade Value'].corr(x['Year']))\n",
    "\n",
    "\n",
    "\n",
    "\n",
    "# Print the correlation coefficient for each section ID\n",
    "print(correlation_by_section_id)\n"
   ]
  },
  {
   "cell_type": "code",
   "execution_count": null,
   "id": "6353dd08",
   "metadata": {},
   "outputs": [],
   "source": [
    "section_id_to_industry = {\n",
    "    1: 'Animal Hides',\n",
    "    2: 'Animal Products',\n",
    "    3: 'Animal and Vegetable Bi-Products',\n",
    "    4: 'Arts and Antiques',\n",
    "    5: 'Chemical Products',\n",
    "    6: 'Foodstuffs',\n",
    "    7: 'Footwear and Headwear',\n",
    "    8: 'Instruments',\n",
    "    9: 'Machines',\n",
    "    10: 'Metals',\n",
    "    11: 'Mineral Products',\n",
    "    12: 'Miscellaneous',\n",
    "    13: 'Paper Goods',\n",
    "    14: 'Plastics and Rubbers',\n",
    "    15: 'Precious Metals',\n",
    "    16: 'Stone And Glass',\n",
    "    17: 'Textiles',\n",
    "    18: 'Transportation',\n",
    "    19: 'Vegetable Products',\n",
    "    20: 'Weapons',\n",
    "    21: 'Wood Products'\n",
    "}\n",
    "\n",
    "# Plot the correlation coefficients\n",
    "plt.figure(figsize=(10, 6))\n",
    "plt.bar(correlation_by_section_id.index, correlation_by_section_id.values)\n",
    "plt.xlabel('Industry')\n",
    "plt.ylabel('Correlation Coefficient')\n",
    "plt.title('Correlation Coefficients between Trade Value and Year for each Industry')\n",
    "plt.xticks(ticks=correlation_by_section_id.index, labels=[section_id_to_industry.get(sec_id, 'Unknown') for sec_id in correlation_by_section_id.index], rotation=45, ha='right')\n",
    "plt.grid(axis='y', linestyle='--', alpha=0.7)\n",
    "plt.tight_layout()\n",
    "plt.show()\n"
   ]
  },
  {
   "cell_type": "code",
   "execution_count": null,
   "id": "3935bafc",
   "metadata": {},
   "outputs": [],
   "source": [
    "pd.read_csv(\"GDP_per_capita.csv\")"
   ]
  },
  {
   "cell_type": "code",
   "execution_count": null,
   "id": "9bd03cb5-4328-427c-910f-2607b8735d89",
   "metadata": {},
   "outputs": [],
   "source": [
    "# Load GDP per capita data\n",
    "gdp_per_capita_df = pd.read_csv(\"GDP_per_capita.csv\")\n",
    "# Filter GDP per capita data for the years 2012-2022 using a query\n",
    "# Filter GDP per capita data for the years 2012-2022 using boolean indexing\n",
    "gdp_per_capita_df_filtered = gdp_per_capita_df[(gdp_per_capita_df['Year'] >= 2012) & (gdp_per_capita_df['Year'] <= 2022)]\n",
    "df = gdp_per_capita_df_filtered\n",
    "plt.figure(figsize=(10, 6))\n",
    "plt.plot(gdp_per_capita_df_filtered['Year'], gdp_per_capita_df_filtered['GDP Per Capita'], marker='o', linestyle='-')\n",
    "plt.xlabel('Year')\n",
    "plt.ylabel('GDP Per Capita (USD)')\n",
    "plt.title('GDP Per Capita from 2012 to 2022')\n",
    "plt.grid(True)\n",
    "\n",
    "def format_usd(x, pos):\n",
    "    return f\"${x:.2f}\"\n",
    "plt.savefig('kenya_gdp_per_cap_plot.png')\n",
    "formatter = FuncFormatter(format_usd)\n",
    "plt.gca().yaxis.set_major_formatter(formatter)\n",
    "\n",
    "plt.show()\n",
    "print(df)"
   ]
  },
  {
   "cell_type": "code",
   "execution_count": null,
   "id": "5b9e1558-affb-4e3a-8b31-fbd5b11677b3",
   "metadata": {},
   "outputs": [],
   "source": [
    "pd.read_csv(\"GDP.csv\")"
   ]
  },
  {
   "cell_type": "code",
   "execution_count": null,
   "id": "59e56b33-57f9-4af5-a362-e1590abfe0b7",
   "metadata": {},
   "outputs": [],
   "source": [
    "# Read the GDP data from CSV\n",
    "gdp_data = pd.read_csv(\"GDP.csv\")\n",
    "\n",
    "# Drop rows with NaN values in 'Country Name' column\n",
    "gdp_data = gdp_data.dropna(subset=['Country Name'])\n",
    "\n",
    "# Melt the dataframe to convert it into a single column for year and GDP value\n",
    "gdp_data_melted = gdp_data.melt(id_vars=['Country Name', 'Country Code', 'Series Name', 'Series Code'],\n",
    "                                var_name='Year',\n",
    "                                value_name='GDP Value')\n",
    "\n",
    "# Extract numeric values from the 'Year' column\n",
    "gdp_data_melted['Year'] = gdp_data_melted['Year'].str.extract('(\\d+)').astype(float)\n",
    "\n",
    "# Remove rows with NaN values in 'GDP Value' column\n",
    "cleaned_gdp_data = gdp_data_melted.dropna(subset=['GDP Value'])\n",
    "\n",
    "# Filter the DataFrame to include only the desired columns and rows where the \"Series Name\" is \"GDP (current US$)\"\n",
    "relevant_data = cleaned_gdp_data[(cleaned_gdp_data['Series Name'] == 'GDP (current US$)')]\n",
    "relevant_data = relevant_data.drop(33)\n",
    "# Plotting\n",
    "plt.figure(figsize=(10, 6))\n",
    "plt.plot(range(2012, 2023), relevant_data['GDP Value'].values.flatten() / 1e9, marker='o', linestyle='-')\n",
    "plt.xlabel('Year')\n",
    "plt.ylabel('GDP (current US$)')\n",
    "plt.title('GDP of Kenya from 2012 to 2022')\n",
    "plt.grid(True)\n",
    "plt.text(2012, relevant_data['GDP Value'].iloc[-1] / 1e9, 'Values in Billions', fontsize=10, verticalalignment='bottom')\n",
    "\n",
    "plt.xticks(range(2012, 2023), rotation=45)  # Rotate x-axis labels for better readability\n",
    "plt.tight_layout()  # Adjust layout to prevent clipping of labels\n",
    "# Save the plot as a picture file format (e.g., PNG)\n",
    "plt.savefig('kenya_gdp_plot.png')\n",
    "\n",
    "# Show the plot\n",
    "plt.show()\n",
    "\n",
    "# Print the relevant data with disclaimer\n",
    "print(relevant_data)"
   ]
  },
  {
   "cell_type": "code",
   "execution_count": null,
   "id": "253f1cd6-c043-4f3c-9e2d-49d9b774506e",
   "metadata": {},
   "outputs": [],
   "source": []
  },
  {
   "cell_type": "code",
   "execution_count": null,
   "id": "33d267d7-a062-419b-9582-2c743c699c95",
   "metadata": {},
   "outputs": [],
   "source": []
  },
  {
   "cell_type": "code",
   "execution_count": null,
   "id": "f4268f0c-76c3-40a2-80fe-ab0fe6a30970",
   "metadata": {},
   "outputs": [],
   "source": []
  }
 ],
 "metadata": {
  "kernelspec": {
   "display_name": "Python 3 (ipykernel)",
   "language": "python",
   "name": "python3"
  },
  "language_info": {
   "codemirror_mode": {
    "name": "ipython",
    "version": 3
   },
   "file_extension": ".py",
   "mimetype": "text/x-python",
   "name": "python",
   "nbconvert_exporter": "python",
   "pygments_lexer": "ipython3",
   "version": "3.11.7"
  }
 },
 "nbformat": 4,
 "nbformat_minor": 5
}
